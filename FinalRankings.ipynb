{
 "cells": [
  {
   "cell_type": "code",
   "execution_count": 7,
   "metadata": {},
   "outputs": [
    {
     "data": {
      "text/plain": [
       "Neighborhood\n",
       "Squirrel Hill South           11\n",
       "Brookline                     36\n",
       "Highland Park                 39\n",
       "Beechview                     40\n",
       "Greenfield                    42\n",
       "                            ... \n",
       "Strip District               191\n",
       "Central Business District    192\n",
       "North Shore                  193\n",
       "South Shore                  194\n",
       "Chateau                      195\n",
       "Name: Final Ranking, Length: 87, dtype: int64"
      ]
     },
     "execution_count": 7,
     "metadata": {},
     "output_type": "execute_result"
    }
   ],
   "source": [
    "import pandas as pd\n",
    "import numpy as np\n",
    "fin = pd.read_csv(\"Final Rankings.csv\")\n",
    "final = fin.groupby(\"Neighborhood\").sum()['Final Ranking']\n",
    "final.sort_values(ascending=True)"
   ]
  }
 ],
 "metadata": {
  "kernelspec": {
   "display_name": "Python 3",
   "language": "python",
   "name": "python3"
  },
  "language_info": {
   "codemirror_mode": {
    "name": "ipython",
    "version": 3
   },
   "file_extension": ".py",
   "mimetype": "text/x-python",
   "name": "python",
   "nbconvert_exporter": "python",
   "pygments_lexer": "ipython3",
   "version": "3.8.3"
  }
 },
 "nbformat": 4,
 "nbformat_minor": 4
}
